{
 "cells": [
  {
   "cell_type": "code",
   "execution_count": 1,
   "metadata": {
    "collapsed": false
   },
   "outputs": [
    {
     "name": "stdout",
     "output_type": "stream",
     "text": [
      "System:\n",
      "10.0*x1 + -1.0*x2 + 2.0*x3 + 0.0*x4 = 6.0\n",
      "-1.0*x1 + 11.0*x2 + -1.0*x3 + 3.0*x4 = 25.0\n",
      "2.0*x1 + -1.0*x2 + 10.0*x3 + -1.0*x4 = -11.0\n",
      "0.0*x1 + 3.0*x2 + -1.0*x3 + 8.0*x4 = 15.0\n",
      "\n",
      "Current solution: [ 0.  0.  0.  0.]\n",
      "Current solution: [ 0.6         2.32727273 -0.98727273  0.87886364]\n",
      "Current solution: [ 1.03018182  2.03693802 -1.0144562   0.98434122]\n",
      "Current solution: [ 1.00658504  2.00355502 -1.00252738  0.99835095]\n",
      "Current solution: [ 1.00086098  2.00029825 -1.00030728  0.99984975]\n",
      "Current solution: [ 1.00009128  2.00002134 -1.00003115  0.9999881 ]\n",
      "Current solution: [ 1.00000836  2.00000117 -1.00000275  0.99999922]\n",
      "Current solution: [ 1.00000067  2.00000002 -1.00000021  0.99999996]\n",
      "Current solution: [ 1.00000004  1.99999999 -1.00000001  1.        ]\n",
      "Current solution: [ 1.  2. -1.  1.]\n",
      "Solution:\n",
      "[ 1.  2. -1.  1.]\n",
      "Error:\n",
      "[  2.06480930e-08  -1.25551054e-08   3.61417563e-11   0.00000000e+00]\n"
     ]
    }
   ],
   "source": [
    "import numpy as np\n",
    "\n",
    "ITERATION_LIMIT = 1000\n",
    "\n",
    "# initialize the matrix\n",
    "A = np.array([[10., -1., 2., 0.],\n",
    "              [-1., 11., -1., 3.],\n",
    "              [2., -1., 10., -1.],\n",
    "              [0.0, 3., -1., 8.]])\n",
    "# initialize the RHS vector\n",
    "b = np.array([6., 25., -11., 15.])\n",
    "\n",
    "# prints the system\n",
    "print(\"System:\")\n",
    "for i in range(A.shape[0]):\n",
    "    row = [\"{}*x{}\".format(A[i, j], j + 1) for j in range(A.shape[1])]\n",
    "    print(\" + \".join(row), \"=\", b[i])\n",
    "print()\n",
    "\n",
    "x = np.zeros_like(b)\n",
    "for it_count in range(ITERATION_LIMIT):\n",
    "    print(\"Current solution:\", x)\n",
    "    x_new = np.zeros_like(x)\n",
    "\n",
    "    for i in range(A.shape[0]):\n",
    "        s1 = np.dot(A[i, :i], x_new[:i])\n",
    "        s2 = np.dot(A[i, i + 1:], x[i + 1:])\n",
    "        x_new[i] = (b[i] - s1 - s2) / A[i, i]\n",
    "\n",
    "    if np.allclose(x, x_new, rtol=1e-8):\n",
    "        break\n",
    "\n",
    "    x = x_new\n",
    "\n",
    "print(\"Solution:\")\n",
    "print(x)\n",
    "error = np.dot(A, x) - b\n",
    "print(\"Error:\")\n",
    "print(error)"
   ]
  },
  {
   "cell_type": "code",
   "execution_count": 3,
   "metadata": {
    "collapsed": true
   },
   "outputs": [],
   "source": [
    "a = [1, 2, 3, 4, 5]"
   ]
  },
  {
   "cell_type": "code",
   "execution_count": 9,
   "metadata": {
    "collapsed": false
   },
   "outputs": [
    {
     "data": {
      "text/plain": [
       "[1, 2, 3, 4]"
      ]
     },
     "execution_count": 9,
     "metadata": {},
     "output_type": "execute_result"
    }
   ],
   "source": [
    "a[:]"
   ]
  },
  {
   "cell_type": "code",
   "execution_count": null,
   "metadata": {
    "collapsed": true
   },
   "outputs": [],
   "source": []
  }
 ],
 "metadata": {
  "kernelspec": {
   "display_name": "Python 3",
   "language": "python",
   "name": "python3"
  },
  "language_info": {
   "codemirror_mode": {
    "name": "ipython",
    "version": 3
   },
   "file_extension": ".py",
   "mimetype": "text/x-python",
   "name": "python",
   "nbconvert_exporter": "python",
   "pygments_lexer": "ipython3",
   "version": "3.6.0"
  }
 },
 "nbformat": 4,
 "nbformat_minor": 2
}
